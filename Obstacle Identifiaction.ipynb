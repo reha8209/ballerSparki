{
 "cells": [
  {
   "cell_type": "code",
   "execution_count": null,
   "metadata": {},
   "outputs": [],
   "source": [
    "import numpy as np\n",
    "import cv2 as cv\n",
    "\n",
    "%matplotlib inline"
   ]
  },
  {
   "cell_type": "code",
   "execution_count": null,
   "metadata": {},
   "outputs": [],
   "source": [
    "from matplotlib import pyplot as plt\n",
    "\n",
    "img = cv.imread('cap.jpg')\n",
    "gray = cv.cvtColor(img, 0)\n",
    "\n",
    "plt.imshow(gray)\n",
    "plt.title('my picture')\n",
    "plt.show()"
   ]
  },
  {
   "cell_type": "markdown",
   "metadata": {},
   "source": [
    "# Example Based on Simple Image"
   ]
  },
  {
   "cell_type": "code",
   "execution_count": null,
   "metadata": {},
   "outputs": [],
   "source": [
    "# Basic Example \n",
    "#!/usr/bin/python\n",
    "\n",
    "# Standard imports\n",
    "import cv2 as cv\n",
    "import numpy as np;\n",
    "\n",
    "# Read image\n",
    "im = cv.imread(\"Orange.jpg\")\n",
    "\n",
    "# Setup SimpleBlobDetector parameters.\n",
    "params = cv.SimpleBlobDetector_Params()\n",
    "\n",
    "# Change thresholds\n",
    "params.minThreshold = 10\n",
    "params.maxThreshold = 200\n",
    "\n",
    "\n",
    "# Filter by Area.\n",
    "params.filterByArea = True\n",
    "params.minArea = 150\n",
    "\n",
    "# Filter by Circularity\n",
    "params.filterByCircularity = True\n",
    "#params.minCircularity = 0.1\n",
    "params.maxCircularity = .9\n",
    "\n",
    "# Filter by Convexity\n",
    "params.filterByConvexity = True\n",
    "params.minConvexity = 0.87\n",
    "    \n",
    "# Filter by Inertia\n",
    "params.filterByInertia = True\n",
    "params.minInertiaRatio = 0.4\n",
    "\n",
    "# Create a detector with the parameters\n",
    "ver = (cv.__version__).split('.')\n",
    "if int(ver[0]) < 3 :\n",
    "    detector = cv.SimpleBlobDetector(params)\n",
    "else : \n",
    "    detector = cv.SimpleBlobDetector_create(params)\n",
    "\n",
    "\n",
    "# Detect blobs.\n",
    "keypoints = detector.detect(im)\n",
    "\n",
    "# Draw detected blobs as red circles.\n",
    "# cv.DRAW_MATCHES_FLAGS_DRAW_RICH_KEYPOINTS ensures\n",
    "# the size of the circle corresponds to the size of blob\n",
    "\n",
    "im_with_keypoints = cv.drawKeypoints(im, keypoints, np.array([]), (0,0,255), cv.DRAW_MATCHES_FLAGS_DRAW_RICH_KEYPOINTS)\n",
    "\n",
    "# Show blobs\n",
    "cv.imshow(\"Keypoints\", im_with_keypoints)\n",
    "cv.waitKey(0)\n",
    "\n",
    "detector.detect(im)\n",
    "image = np.zeros(np.shape(res), np.uint8)\n",
    "\n",
    "image[:] = (255, 255, 255)\n",
    "new_res = res\n",
    "\n",
    "\n",
    "new_res\n",
    "\n",
    "new_res[np.where((res==[0,0,0]).all(axis=2))] = [255,255,255]\n",
    "cv.imshow(\"White\", new_res)\n",
    "cv.waitKey(0)\n",
    "\n",
    "detector.detect(im)\n"
   ]
  },
  {
   "cell_type": "code",
   "execution_count": null,
   "metadata": {},
   "outputs": [],
   "source": [
    "#!/usr/bin/python\n",
    "\n",
    "# Standard imports\n",
    "import cv2 as cv\n",
    "import numpy as np;\n",
    "\n",
    "# Read image\n",
    "im = cv.imread(\"Cap.jpg\")#, cv.COLOR_BGR2HSV)\n",
    "\n",
    "\n",
    "blur_amount = 2\n",
    "im = cv.blur(im,(blur_amount,blur_amount))\n",
    "\n",
    "# Setup SimpleBlobDetector parameters.\n",
    "params = cv.SimpleBlobDetector_Params()\n",
    "\n",
    "params.filterByArea = True\n",
    "params.minArea = 20000\n",
    "params.maxArea = 40000\n",
    "\n",
    "params.filterByCircularity = True\n",
    "params.minCircularity = .5\n",
    "\n",
    "\n",
    "# Change thresholds\n",
    "params.minThreshold = 170\n",
    "params.maxThreshold = 200\n",
    "\n",
    "# Filter by Circularity\n",
    "#params.filterByCircularity = True\n",
    "\n",
    "\n",
    "# Filter by Convexity\n",
    "#params.filterByConvexity = True\n",
    "#params.minConvexity = 0.87\n",
    "    \n",
    "# Filter by Inertia\n",
    "params.filterByInertia = True\n",
    "#params.minInertiaRatio = 0.\n",
    "params.maxInertiaRatio = .5\n",
    "\n",
    "# Create a detector with the parameters\n",
    "ver = (cv.__version__).split('.')\n",
    "if int(ver[0]) < 3 :\n",
    "    detector = cv.SimpleBlobDetector(params)\n",
    "else : \n",
    "    detector = cv.SimpleBlobDetector_create(params)\n",
    "\n",
    "\n",
    "# Detect blobs.\n",
    "keypoints = detector.detect(im)\n",
    "\n",
    "# Draw detected blobs as red circles.\n",
    "# cv.DRAW_MATCHES_FLAGS_DRAW_RICH_KEYPOINTS ensures\n",
    "# the size of the circle corresponds to the size of blob\n",
    "\n",
    "im_with_keypoints = cv.drawKeypoints(im, keypoints, np.array([]), (0,0,255), cv.DRAW_MATCHES_FLAGS_DRAW_RICH_KEYPOINTS)\n",
    "\n",
    "# Show blobs\n",
    "cv.imshow(\"Keypoints\", im_with_keypoints)\n",
    "cv.waitKey(0)\n",
    "\n",
    "detector.detect(im)\n"
   ]
  },
  {
   "cell_type": "markdown",
   "metadata": {},
   "source": [
    "# Attempts with Color Specific"
   ]
  },
  {
   "cell_type": "code",
   "execution_count": null,
   "metadata": {},
   "outputs": [],
   "source": [
    "import numpy as np\n",
    "import cv2 as cv\n",
    "import colorsys"
   ]
  },
  {
   "cell_type": "code",
   "execution_count": null,
   "metadata": {},
   "outputs": [],
   "source": [
    "frac = (orange/255)[0][0]\n",
    "np.array(colorsys.rgb_to_hsv(frac[0], frac[1], frac[2]))*[180,255,255]"
   ]
  },
  {
   "cell_type": "code",
   "execution_count": null,
   "metadata": {},
   "outputs": [],
   "source": [
    "rbg_base = (27,97,228)\n",
    "\n",
    "orange = np.uint8([[[28,97,227]]])\n",
    "print(orange)\n",
    "hsv_orange = cv.cvtColor(orange,cv.COLOR_BGR2HSV)\n",
    "\n",
    "print('Orange')\n",
    "print(hsv_orange)\n",
    "\n",
    "h_tol = 15\n",
    "s_tol = 50 # to 255\n",
    "l_tol = 50 # to 255\n",
    "\n",
    "im = cv.imread('Orange.jpg')\n",
    "\n",
    "hsv = cv.cvtColor(im, cv.COLOR_BGR2HSV)\n",
    "\n",
    "tol = 3\n",
    "hue = hsv_orange[0][0][0]\n",
    "low_orange = np.array([hue-tol, 50, 50])\n",
    "high_orange = np.array([hue+tol, 255, 255])\n",
    "mask = cv.inRange(hsv, low_orange, high_orange)\n",
    "\n",
    "\n",
    "\n",
    "res = cv.bitwise_and(im,im, mask= mask)\n",
    "cv.imshow('Test',res)\n",
    "cv.waitKey(0)\n",
    "\n",
    "#cv.imshow('res',res)"
   ]
  },
  {
   "cell_type": "code",
   "execution_count": null,
   "metadata": {},
   "outputs": [],
   "source": [
    "import cv2 as cv\n",
    "import numpy as np\n",
    "\n",
    "frame = im\n",
    "\n",
    "\n",
    "# Convert BGR to HSV\n",
    "hsv = cv.cvtColor(frame, cv.COLOR_BGR2HSV)\n",
    "# define range of blue color in HSV\n",
    "lower_blue = np.array([110,50,50])\n",
    "upper_blue = np.array([130,255,255])\n",
    "# Threshold the HSV image to get only blue colors\n",
    "mask = cv.inRange(hsv, lower_blue, upper_blue)\n",
    "# Bitwise-AND mask and original image\n",
    "res = cv.bitwise_and(frame,frame, mask= mask)\n",
    "cv.imshow('frame',frame)\n",
    "cv.imshow('mask',mask)\n",
    "cv.imshow('res',res)\n",
    "#k = cv.waitKey(5) & 0xFF"
   ]
  },
  {
   "cell_type": "code",
   "execution_count": null,
   "metadata": {},
   "outputs": [],
   "source": [
    "import cv2 as cv\n",
    "import numpy as np\n",
    "\n",
    "im = cv.imread(\"Cap.jpg\")\n",
    "\n",
    "h_tol = 10\n",
    "low_orange = np.array([27-h_tol, 50,50])\n",
    "high_orange = np.array([27+h_tol, 255, 255])\n",
    "\n",
    "\n",
    "frame = im \n",
    "\n",
    "hsv = cv.cvtColor(frame, cv.COLOR_BGR2HSV)\n",
    "\n",
    "# define range of blue color in HSV\n",
    "lower_blue = low_orange #np.array([110,50,50])\n",
    "upper_blue = high_orange #np.array([130,255,255])\n",
    "\n",
    "# Threshold the HSV image to get only blue colors\n",
    "mask = cv.inRange(hsv, lower_blue, upper_blue)\n",
    "\n",
    "# Bitwise-AND mask and original image\n",
    "res = cv.bitwise_and(frame,frame, mask= mask)\n",
    "\n",
    "keypoints = detector.detect(res)\n",
    "\n"
   ]
  },
  {
   "cell_type": "markdown",
   "metadata": {},
   "source": [
    "# Organized Code"
   ]
  },
  {
   "cell_type": "code",
   "execution_count": 8,
   "metadata": {},
   "outputs": [],
   "source": [
    "import numpy as np\n",
    "import cv2 as cv\n",
    "import colorsys\n",
    "import matplotlib.pyplot as plt\n",
    "%matplotlib inline"
   ]
  },
  {
   "cell_type": "code",
   "execution_count": 13,
   "metadata": {},
   "outputs": [
    {
     "data": {
      "text/plain": [
       "-1"
      ]
     },
     "execution_count": 13,
     "metadata": {},
     "output_type": "execute_result"
    }
   ],
   "source": [
    "#bgr_orange =  [28,97,227] No flash\n",
    "#bgr_orange = [26,113,233] No flash\n",
    "#bgr_orange = [18,53,157] # Orange Color with Flash\n",
    "#bgr_green = [37,81,12]\n",
    "#bgr_green = bgr_orange\n",
    "bgr_green = [50,95,20]\n",
    "bgr_orange = [27,83,191]\n",
    "\n",
    "def mask_and_remove(in_image, color):\n",
    "    color_8bit = np.uint8([[np.array(color)]]) #Format color\n",
    "    hsv_color = cv.cvtColor(color_8bit,cv.COLOR_BGR2HSV)[0][0]\n",
    "    \n",
    "    tol = 7 # What range of colors will be allowed\n",
    "    \n",
    "    hue_lower = hsv_color[0]-tol #Set lower bound for hue\n",
    "    #print(hsv_color[0])\n",
    "    if hue_lower < 0:\n",
    "        hue_lower = 180-hue_lower\n",
    "    \n",
    "    hue_upper = hsv_color[0]+tol # Set upper bound for hue\n",
    "    if hue_upper> 180:\n",
    "        hue_upper = hue_upper - 180\n",
    "    \n",
    "    lower_bound = np.array([hue_lower,50,50]) \n",
    "    upper_bound = np.array([hue_upper,255,255])\n",
    "    \n",
    "    hsv_image = cv.cvtColor(in_image, cv.COLOR_BGR2HSV) # Convert image to HSV\n",
    "    image_mask = cv.inRange(hsv_image, lower_bound, upper_bound) # Create Mask\n",
    "\n",
    "    isolated_im = cv.bitwise_and(in_image,in_image, mask= image_mask) # Combine mask and image\n",
    "    \n",
    "    # Create new image with isolated image and white background\n",
    "    white_bkgd = isolated_im\n",
    "    white_bkgd[np.where((isolated_im==[0,0,0]).all(axis=2))] = [255,255,255] \n",
    "\n",
    "    return(white_bkgd)\n",
    "\n",
    "\n",
    "    \n",
    "two_circle = cv.imread(\"Final_Map.jpg\")\n",
    "dims = np.shape(two_circle)\n",
    "\n",
    "two_circle = cv.resize(two_circle,(int(dims[1]/10),int(dims[0]/10)))\n",
    "cleaned_image = mask_and_remove(two_circle,bgr_green)\n",
    "\n",
    "\n",
    "cv.imshow(\"Test\",cleaned_image)\n",
    "cv.waitKey(0)\n"
   ]
  },
  {
   "cell_type": "code",
   "execution_count": 14,
   "metadata": {},
   "outputs": [
    {
     "name": "stdout",
     "output_type": "stream",
     "text": [
      "294.6846690285844\n",
      "343.86458560601625\n",
      "374.29678315231314\n",
      "279.95130929911335\n",
      "[[  0   0]\n",
      " [400   0]\n",
      " [  0 400]\n",
      " [400 400]]\n",
      "[[ 41.68106461  45.78237534]\n",
      " [262.8117981   50.72267914]\n",
      " [ 24.48622131 279.62271118]\n",
      " [269.58621216 283.11312866]]\n",
      "1088.4553440056807\n",
      "978.8358258036709\n",
      "950.8726908522187\n"
     ]
    }
   ],
   "source": [
    "def blob_locations(clean_im):\n",
    "    # Setup SimpleBlobDetector parameters.\n",
    "    params = cv.SimpleBlobDetector_Params()\n",
    "\n",
    "    params.minThreshold = 5\n",
    "    params.maxThreshold = 3000\n",
    "\n",
    "    params.filterByArea = True\n",
    "    params.minArea = 50\n",
    "    params.maxArea = 1000000\n",
    "    \n",
    "    detector = cv.SimpleBlobDetector_create(params)\n",
    "\n",
    "    # Detect blobs.\n",
    "    keypoints = detector.detect(clean_im)\n",
    "    \n",
    "    im_with_keypoints = cv.drawKeypoints(clean_im, keypoints, np.array([]), (0,0,0), cv.DRAW_MATCHES_FLAGS_DRAW_RICH_KEYPOINTS)\n",
    "\n",
    "    # Show blobs\n",
    "    cv.imshow(\"Keypoints\", im_with_keypoints)\n",
    "    cv.waitKey(0)\n",
    "    \n",
    "    locations = []\n",
    "    for point in keypoints:\n",
    "        locations.append([point.pt[0],point.pt[1]])\n",
    "        print(point.size**2/4*np.pi)\n",
    "    return(locations)\n",
    "\n",
    "def transform_image(corners,original_image):\n",
    "    first_corner = np.array([0,0])\n",
    "    second_corner = np.array([400,0])\n",
    "    third_corner = np.array([0,400])\n",
    "    fourth_corner = np.array([400,400])\n",
    "    new_corners = np.array([first_corner, second_corner, third_corner, fourth_corner])\n",
    "    \n",
    "    ordered = np.zeros((4,2))\n",
    "    \n",
    "    i = 0\n",
    "    for s in new_corners:\n",
    "        dists= []\n",
    "        for point in corners:\n",
    "            dists.append(np.linalg.norm(np.array(s)-np.array(point)))\n",
    "        ind = np.argmin(dists)\n",
    "        \n",
    "        ordered[i]= np.array(corners[ind])\n",
    "        \n",
    "        i+=1\n",
    "    print(new_corners)\n",
    "    print(ordered)\n",
    "    transform_matrix = cv.getPerspectiveTransform(np.float32(ordered),np.float32(new_corners))\n",
    "    \n",
    "    new_image = cv.warpPerspective(original_image,transform_matrix,(400,400))\n",
    "    return(new_image)\n",
    "\n",
    "corners = blob_locations(cleaned_image)\n",
    "\n",
    "\n",
    "np.shape(two_circle)[0]\n",
    "\n",
    "new_image = transform_image(corners, two_circle)\n",
    "cv.imshow('Transformed',new_image)\n",
    "cv.waitKey(0)\n",
    "\n",
    "cleaned_image_2 = mask_and_remove(new_image,bgr_orange)\n",
    "\n",
    "cv.imshow('Transformed',cleaned_image_2)\n",
    "cv.waitKey(0)\n",
    "\n",
    "obstacles = blob_locations(cleaned_image_2)"
   ]
  },
  {
   "cell_type": "code",
   "execution_count": 15,
   "metadata": {},
   "outputs": [],
   "source": [
    "points = np.array(obstacles)\n",
    "x_points = points[:,0]\n",
    "y_points = 400-points[:,1]"
   ]
  },
  {
   "cell_type": "code",
   "execution_count": 16,
   "metadata": {},
   "outputs": [],
   "source": [
    "the_ints = np.floor((points/400)*6)\n"
   ]
  },
  {
   "cell_type": "code",
   "execution_count": 17,
   "metadata": {},
   "outputs": [
    {
     "data": {
      "text/plain": [
       "Text(0,0.5,'j')"
      ]
     },
     "execution_count": 17,
     "metadata": {},
     "output_type": "execute_result"
    },
    {
     "data": {
      "image/png": "[encoded data removed]",
      "text/plain": [
       "<Figure size 576x576 with 1 Axes>"
      ]
     },
     "metadata": {},
     "output_type": "display_data"
    }
   ],
   "source": [
    "points = np.array(obstacles)\n",
    "x_points = points[:,0]\n",
    "y_points = 400-points[:,1]\n",
    "\n",
    "the_ints = np.floor((points/400)*6)\n",
    "\n",
    "fig, ax = plt.subplots(1,1,figsize = (8,8))\n",
    "for i in range(7):\n",
    "    ax.plot([0,6],[i,i],'k')\n",
    "\n",
    "for i in range(7):\n",
    "    ax.plot([i,i],[0,6],'k')\n",
    "    \n",
    "ax.scatter(x_points/400*6,y_points/400*6)\n",
    "ax.set_xlabel('i', fontsize = 20)\n",
    "ax.set_ylabel('j', fontsize = 20)"
   ]
  },
  {
   "cell_type": "code",
   "execution_count": 9,
   "metadata": {},
   "outputs": [
    {
     "name": "stdout",
     "output_type": "stream",
     "text": [
      "i: [2. 3.]\n",
      "j: [0. 1.]\n"
     ]
    }
   ],
   "source": [
    "i = np.floor(x_points/400*6)\n",
    "j = np.floor(y_points/400*6)\n",
    "print('i:', i)\n",
    "print('j:',j)"
   ]
  },
  {
   "cell_type": "code",
   "execution_count": null,
   "metadata": {},
   "outputs": [],
   "source": []
  }
 ],
 "metadata": {
  "kernelspec": {
   "display_name": "Python 3",
   "language": "python",
   "name": "python3"
  },
  "language_info": {
   "codemirror_mode": {
    "name": "ipython",
    "version": 3
   },
   "file_extension": ".py",
   "mimetype": "text/x-python",
   "name": "python",
   "nbconvert_exporter": "python",
   "pygments_lexer": "ipython3",
   "version": "3.6.5"
  }
 },
 "nbformat": 4,
 "nbformat_minor": 2
}
