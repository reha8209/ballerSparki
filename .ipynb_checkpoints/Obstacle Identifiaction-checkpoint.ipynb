{
 "cells": [
  {
   "cell_type": "code",
   "execution_count": null,
   "metadata": {},
   "outputs": [],
   "source": [
    "import numpy as np\n",
    "import cv2 as cv\n",
    "\n",
    "%matplotlib inline"
   ]
  },
  {
   "cell_type": "code",
   "execution_count": null,
   "metadata": {},
   "outputs": [],
   "source": [
    "from matplotlib import pyplot as plt\n",
    "\n",
    "img = cv.imread('cap.jpg')\n",
    "gray = cv.cvtColor(img, 0)\n",
    "\n",
    "plt.imshow(gray)\n",
    "plt.title('my picture')\n",
    "plt.show()"
   ]
  },
  {
   "cell_type": "markdown",
   "metadata": {},
   "source": [
    "# Example Based on Simple Image"
   ]
  },
  {
   "cell_type": "code",
   "execution_count": 65,
   "metadata": {},
   "outputs": [
    {
     "data": {
      "text/plain": [
       "[<KeyPoint 000001E7847148A0>]"
      ]
     },
     "execution_count": 65,
     "metadata": {},
     "output_type": "execute_result"
    }
   ],
   "source": [
    "# Basic Example \n",
    "#!/usr/bin/python\n",
    "\n",
    "# Standard imports\n",
    "import cv2 as cv\n",
    "import numpy as np;\n",
    "\n",
    "# Read image\n",
    "im = cv.imread(\"Orange.jpg\")\n",
    "\n",
    "# Setup SimpleBlobDetector parameters.\n",
    "params = cv.SimpleBlobDetector_Params()\n",
    "\n",
    "# Change thresholds\n",
    "params.minThreshold = 10\n",
    "params.maxThreshold = 200\n",
    "\n",
    "\n",
    "# Filter by Area.\n",
    "params.filterByArea = True\n",
    "params.minArea = 150\n",
    "\n",
    "# Filter by Circularity\n",
    "params.filterByCircularity = True\n",
    "#params.minCircularity = 0.1\n",
    "params.maxCircularity = .9\n",
    "\n",
    "# Filter by Convexity\n",
    "params.filterByConvexity = True\n",
    "params.minConvexity = 0.87\n",
    "    \n",
    "# Filter by Inertia\n",
    "params.filterByInertia = True\n",
    "params.minInertiaRatio = 0.4\n",
    "\n",
    "# Create a detector with the parameters\n",
    "ver = (cv.__version__).split('.')\n",
    "if int(ver[0]) < 3 :\n",
    "    detector = cv.SimpleBlobDetector(params)\n",
    "else : \n",
    "    detector = cv.SimpleBlobDetector_create(params)\n",
    "\n",
    "\n",
    "# Detect blobs.\n",
    "keypoints = detector.detect(im)\n",
    "\n",
    "# Draw detected blobs as red circles.\n",
    "# cv.DRAW_MATCHES_FLAGS_DRAW_RICH_KEYPOINTS ensures\n",
    "# the size of the circle corresponds to the size of blob\n",
    "\n",
    "im_with_keypoints = cv.drawKeypoints(im, keypoints, np.array([]), (0,0,255), cv.DRAW_MATCHES_FLAGS_DRAW_RICH_KEYPOINTS)\n",
    "\n",
    "# Show blobs\n",
    "cv.imshow(\"Keypoints\", im_with_keypoints)\n",
    "cv.waitKey(0)\n",
    "\n",
    "detector.detect(im)\n",
    "image = np.zeros(np.shape(res), np.uint8)\n",
    "\n",
    "image[:] = (255, 255, 255)\n",
    "new_res = res\n",
    "\n",
    "\n",
    "new_res\n",
    "\n",
    "new_res[np.where((res==[0,0,0]).all(axis=2))] = [255,255,255]\n",
    "cv.imshow(\"White\", new_res)\n",
    "cv.waitKey(0)\n",
    "\n",
    "detector.detect(im)\n"
   ]
  },
  {
   "cell_type": "code",
   "execution_count": null,
   "metadata": {},
   "outputs": [],
   "source": [
    "#!/usr/bin/python\n",
    "\n",
    "# Standard imports\n",
    "import cv2 as cv\n",
    "import numpy as np;\n",
    "\n",
    "# Read image\n",
    "im = cv.imread(\"Cap.jpg\")#, cv.COLOR_BGR2HSV)\n",
    "\n",
    "\n",
    "blur_amount = 2\n",
    "im = cv.blur(im,(blur_amount,blur_amount))\n",
    "\n",
    "# Setup SimpleBlobDetector parameters.\n",
    "params = cv.SimpleBlobDetector_Params()\n",
    "\n",
    "params.filterByArea = True\n",
    "params.minArea = 20000\n",
    "params.maxArea = 40000\n",
    "\n",
    "params.filterByCircularity = True\n",
    "params.minCircularity = .5\n",
    "\n",
    "\n",
    "# Change thresholds\n",
    "params.minThreshold = 170\n",
    "params.maxThreshold = 200\n",
    "\n",
    "# Filter by Circularity\n",
    "#params.filterByCircularity = True\n",
    "\n",
    "\n",
    "# Filter by Convexity\n",
    "#params.filterByConvexity = True\n",
    "#params.minConvexity = 0.87\n",
    "    \n",
    "# Filter by Inertia\n",
    "params.filterByInertia = True\n",
    "#params.minInertiaRatio = 0.\n",
    "params.maxInertiaRatio = .5\n",
    "\n",
    "# Create a detector with the parameters\n",
    "ver = (cv.__version__).split('.')\n",
    "if int(ver[0]) < 3 :\n",
    "    detector = cv.SimpleBlobDetector(params)\n",
    "else : \n",
    "    detector = cv.SimpleBlobDetector_create(params)\n",
    "\n",
    "\n",
    "# Detect blobs.\n",
    "keypoints = detector.detect(im)\n",
    "\n",
    "# Draw detected blobs as red circles.\n",
    "# cv.DRAW_MATCHES_FLAGS_DRAW_RICH_KEYPOINTS ensures\n",
    "# the size of the circle corresponds to the size of blob\n",
    "\n",
    "im_with_keypoints = cv.drawKeypoints(im, keypoints, np.array([]), (0,0,255), cv.DRAW_MATCHES_FLAGS_DRAW_RICH_KEYPOINTS)\n",
    "\n",
    "# Show blobs\n",
    "cv.imshow(\"Keypoints\", im_with_keypoints)\n",
    "cv.waitKey(0)\n",
    "\n",
    "detector.detect(im)\n"
   ]
  },
  {
   "cell_type": "markdown",
   "metadata": {},
   "source": [
    "# Attempts with Color Specific"
   ]
  },
  {
   "cell_type": "code",
   "execution_count": 13,
   "metadata": {},
   "outputs": [],
   "source": [
    "import numpy as np\n",
    "import cv2 as cv\n",
    "import colorsys"
   ]
  },
  {
   "cell_type": "code",
   "execution_count": 26,
   "metadata": {},
   "outputs": [
    {
     "data": {
      "text/plain": [
       "array([ 10.44776119, 224.80263158, 228.        ])"
      ]
     },
     "execution_count": 26,
     "metadata": {},
     "output_type": "execute_result"
    }
   ],
   "source": [
    "frac = (orange/255)[0][0]\n",
    "np.array(colorsys.rgb_to_hsv(frac[0], frac[1], frac[2]))*[180,255,255]"
   ]
  },
  {
   "cell_type": "code",
   "execution_count": 38,
   "metadata": {},
   "outputs": [
    {
     "name": "stdout",
     "output_type": "stream",
     "text": [
      "[[[ 28  97 227]]]\n",
      "Orange\n",
      "[[[ 10 224 227]]]\n"
     ]
    },
    {
     "data": {
      "text/plain": [
       "-1"
      ]
     },
     "execution_count": 38,
     "metadata": {},
     "output_type": "execute_result"
    }
   ],
   "source": [
    "rbg_base = (27,97,228)\n",
    "\n",
    "orange = np.uint8([[[28,97,227]]])\n",
    "print(orange)\n",
    "hsv_orange = cv.cvtColor(orange,cv.COLOR_BGR2HSV)\n",
    "\n",
    "print('Orange')\n",
    "print(hsv_orange)\n",
    "\n",
    "h_tol = 15\n",
    "s_tol = 50 # to 255\n",
    "l_tol = 50 # to 255\n",
    "\n",
    "im = cv.imread('Orange.jpg')\n",
    "\n",
    "hsv = cv.cvtColor(im, cv.COLOR_BGR2HSV)\n",
    "\n",
    "tol = 3\n",
    "hue = hsv_orange[0][0][0]\n",
    "low_orange = np.array([hue-tol, 50, 50])\n",
    "high_orange = np.array([hue+tol, 255, 255])\n",
    "mask = cv.inRange(hsv, low_orange, high_orange)\n",
    "\n",
    "\n",
    "\n",
    "res = cv.bitwise_and(im,im, mask= mask)\n",
    "cv.imshow('Test',res)\n",
    "cv.waitKey(0)\n",
    "\n",
    "#cv.imshow('res',res)"
   ]
  },
  {
   "cell_type": "code",
   "execution_count": null,
   "metadata": {},
   "outputs": [],
   "source": [
    "import cv2 as cv\n",
    "import numpy as np\n",
    "\n",
    "frame = im\n",
    "\n",
    "\n",
    "# Convert BGR to HSV\n",
    "hsv = cv.cvtColor(frame, cv.COLOR_BGR2HSV)\n",
    "# define range of blue color in HSV\n",
    "lower_blue = np.array([110,50,50])\n",
    "upper_blue = np.array([130,255,255])\n",
    "# Threshold the HSV image to get only blue colors\n",
    "mask = cv.inRange(hsv, lower_blue, upper_blue)\n",
    "# Bitwise-AND mask and original image\n",
    "res = cv.bitwise_and(frame,frame, mask= mask)\n",
    "cv.imshow('frame',frame)\n",
    "cv.imshow('mask',mask)\n",
    "cv.imshow('res',res)\n",
    "#k = cv.waitKey(5) & 0xFF"
   ]
  },
  {
   "cell_type": "code",
   "execution_count": null,
   "metadata": {},
   "outputs": [],
   "source": [
    "import cv2 as cv\n",
    "import numpy as np\n",
    "\n",
    "im = cv.imread(\"Cap.jpg\")\n",
    "\n",
    "h_tol = 10\n",
    "low_orange = np.array([27-h_tol, 50,50])\n",
    "high_orange = np.array([27+h_tol, 255, 255])\n",
    "\n",
    "\n",
    "frame = im \n",
    "\n",
    "hsv = cv.cvtColor(frame, cv.COLOR_BGR2HSV)\n",
    "\n",
    "# define range of blue color in HSV\n",
    "lower_blue = low_orange #np.array([110,50,50])\n",
    "upper_blue = high_orange #np.array([130,255,255])\n",
    "\n",
    "# Threshold the HSV image to get only blue colors\n",
    "mask = cv.inRange(hsv, lower_blue, upper_blue)\n",
    "\n",
    "# Bitwise-AND mask and original image\n",
    "res = cv.bitwise_and(frame,frame, mask= mask)\n",
    "\n",
    "keypoints = detector.detect(res)\n",
    "\n"
   ]
  },
  {
   "cell_type": "code",
   "execution_count": null,
   "metadata": {},
   "outputs": [],
   "source": []
  }
 ],
 "metadata": {
  "kernelspec": {
   "display_name": "Python 3",
   "language": "python",
   "name": "python3"
  },
  "language_info": {
   "codemirror_mode": {
    "name": "ipython",
    "version": 3
   },
   "file_extension": ".py",
   "mimetype": "text/x-python",
   "name": "python",
   "nbconvert_exporter": "python",
   "pygments_lexer": "ipython3",
   "version": "3.6.5"
  }
 },
 "nbformat": 4,
 "nbformat_minor": 2
}
